{
 "cells": [
  {
   "cell_type": "markdown",
   "id": "ed9b70b7",
   "metadata": {},
   "source": [
    "# 🧠 brandBuilder Lab #001: Your First Branded Landing Page\n",
    "\n",
    "**Lab Type:** Idea  \n",
    "**Estimated Time:** 30–45 mins  \n",
    "**Skill Level:** Beginner"
   ]
  },
  {
   "cell_type": "code",
   "execution_count": null,
   "id": "e608a5a7",
   "metadata": {},
   "outputs": [],
   "source": [
    "# Let's begin by printing your name to personalize the notebook\n",
    "your_name = \"\"\n",
    "print(f\"Welcome to the lab, {your_name}!\")"
   ]
  },
  {
   "cell_type": "markdown",
   "id": "55467964",
   "metadata": {},
   "source": [
    "## 🔍 STAR Method Lab Prompt\n",
    "\n",
    "**Situation:**  \n",
    "[Define your marketing tech problem or opportunity.]\n",
    "\n",
    "**Task:**  \n",
    "[What are you going to build using marketing tools or Gemini AI?]\n",
    "\n",
    "**Action:**  \n",
    "[Break it into tasks using Google tools + Gemini to execute.]\n",
    "\n",
    "**Expected Result:**  \n",
    "[A page, funnel, plan, or product that shows strategy and branding.]"
   ]
  },
  {
   "cell_type": "markdown",
   "id": "2247510d",
   "metadata": {},
   "source": [
    "## ✍️ Your Assignment\n",
    "\n",
    "_Use this section to complete your deliverable:_\n",
    "\n",
    "```markdown\n",
    "(Example Format)\n",
    "\n",
    "- **Product/Service**: Vegan meal prep delivery  \n",
    "- **Page Title**: \"PlantFuel Meals\"  \n",
    "- **Tagline**: \"Fuel your body. Empower your day.\"  \n",
    "- **CTA**: \"Get your first week free\"  \n",
    "- **Gemini Prompt**: Brand voice for eco-conscious Gen Z  \n",
    "- **URL**: [Google Sites link here]  \n",
    "```"
   ]
  }
 ],
 "metadata": {},
 "nbformat": 4,
 "nbformat_minor": 5
}
