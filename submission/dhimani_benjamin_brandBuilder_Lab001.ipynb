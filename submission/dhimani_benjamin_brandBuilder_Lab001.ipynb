{
  "cells": [
    {
      "cell_type": "markdown",
      "id": "ed9b70b7",
      "metadata": {
        "id": "ed9b70b7"
      },
      "source": [
        "# 🧠 brandBuilder Lab #001: Your First Branded Landing Page\n",
        "\n",
        "**Lab Type:** Idea  \n",
        "**Estimated Time:** 30–45 mins  \n",
        "**Skill Level:** Beginner"
      ]
    },
    {
      "cell_type": "code",
      "execution_count": 1,
      "id": "e608a5a7",
      "metadata": {
        "colab": {
          "base_uri": "https://localhost:8080/"
        },
        "id": "e608a5a7",
        "outputId": "d214bc27-6d2e-49e0-c74b-0342f66d4a93"
      },
      "outputs": [
        {
          "output_type": "stream",
          "name": "stdout",
          "text": [
            "Welcome to the lab, Dhimani Benjamin!\n"
          ]
        }
      ],
      "source": [
        "# Let's begin by printing your name to personalize the notebook\n",
        "your_name = \"Dhimani Benjamin\"\n",
        "print(f\"Welcome to the lab, {your_name}!\")"
      ]
    },
    {
      "cell_type": "markdown",
      "id": "55467964",
      "metadata": {
        "id": "55467964"
      },
      "source": [
        "## 🔍 STAR Method Lab Prompt\n",
        "\n",
        "**Situation:**  \n",
        "[Define your marketing tech problem or opportunity.]\n",
        "\n",
        "**Task:**  \n",
        "[What are you going to build using marketing tools or Gemini AI?]\n",
        "\n",
        "**Action:**  \n",
        "[Break it into tasks using Google tools + Gemini to execute.]\n",
        "\n",
        "**Expected Result:**  \n",
        "[A page, funnel, plan, or product that shows strategy and branding.]"
      ]
    },
    {
      "cell_type": "markdown",
      "id": "2247510d",
      "metadata": {
        "id": "2247510d"
      },
      "source": [
        "## ✍️ Your Assignment\n",
        "\n",
        "_Use this section to complete your deliverable:_\n",
        "\n",
        "```markdown\n",
        "(Example Format)\n",
        "\n",
        "- **Product/Service**: Vegan meal prep delivery  \n",
        "- **Page Title**: \"PlantFuel Meals\"  \n",
        "- **Tagline**: \"Fuel your body. Empower your day.\"  \n",
        "- **CTA**: \"Get your first week free\"  \n",
        "- **Gemini Prompt**: Brand voice for eco-conscious Gen Z  \n",
        "- **URL**: [Google Sites link here]  \n",
        "```"
      ]
    },
    {
      "cell_type": "markdown",
      "source": [
        "STAR Framework: Simple & Concise Launch Plan\n",
        "\n",
        "S - Situation\n",
        "Let's say your new business is \"Loop Threads\" – a direct-to-consumer brand selling stylish, durable clothing made from 100% recycled materials.\n",
        "\n",
        "Core Value: Loop Threads offers trendy, high-quality apparel that's genuinely good for the planet. We're cutting fashion waste and showing that sustainable can be cool.\n",
        "\n",
        "Mission: To revolutionize fast fashion by making recycled clothing the first choice for conscious consumers.\n",
        "\n",
        "T - Target Audience\n",
        "\n",
        "Our sweet spot is Gen Z and young Millennials (18-35). They're:\n",
        "\n",
        "Eco-Conscious: Genuinely care about the environment and sustainable living.\n",
        "\n",
        "Style-Savvy: Want to look good and keep up with trends.\n",
        "\n",
        "Digitally Native: Live on social media, especially TikTok and Instagram.\n",
        "\n",
        "Value-Driven: Want their purchases to align with their ethics, but also appreciate a good deal.\n",
        "\n",
        "A - Action Plan\n",
        "We'll hit them where they live: online, with authentic, engaging content.\n",
        "\n",
        "1. Landing Page: \"The Loop Hub\"\n",
        "Purpose: Quickly tell our story, show our products, and get them to shop.\n",
        "\n",
        "Key Elements:\n",
        "\n",
        "Hero: \"Wear the Change. Shop Loop Threads.\" with a cool image of someone wearing our clothes in a natural setting.\n",
        "\n",
        "Our Promise: How we use recycled materials and why it matters (short, punchy facts).\n",
        "\n",
        "Shop the Look: Direct access to product categories (e.g., \"Tees,\" \"Hoodies\").\n",
        "\n",
        "Real Talk: Customer reviews/testimonials.\n",
        "\n",
        "Call to Action (CTA): \"Shop Now,\" \"Discover the Collection.\"\n",
        "\n",
        "2. Content Funnel: \"Educate, Engage, Empower\"\n",
        "Goal: Move people from \"what's that?\" to \"I need this!\"\n",
        "\n",
        "Top of Funnel (Awareness - Social First):\n",
        "\n",
        "Focus: Viral content about fashion waste, the \"ugly truth\" of fast fashion, and the beauty of recycled materials.\n",
        "\n",
        "Channels: TikTok, Instagram Reels. Short, trending videos showing recycled materials transforming into stylish clothes. Collaborate with eco-fashion micro-influencers.\n",
        "\n",
        "Example: A \"Did You Know?\" series on textile waste, or a \"Style Your Recycled Tee\" challenge.\n",
        "\n",
        "Middle of Funnel (Consideration - Deeper Dive):\n",
        "\n",
        "Focus: Showcase product quality, ethical production, and unique designs.\n",
        "\n",
        "Channels: Instagram posts, YouTube shorts, email newsletter. Share \"how it's made\" content, fabric details, and styling tips.\n",
        "\n",
        "Example: A reel showing the durability of a Loop Threads hoodie, or an email detailing our recycled fabric sourcing.\n",
        "\n",
        "Bottom of Funnel (Conversion & Advocacy - Direct Ask):\n",
        "\n",
        "Focus: Drive sales and turn customers into advocates.\n",
        "\n",
        "Channels: Landing page, email, retargeting ads. Offer limited-time drops, bundle deals, and loyalty perks.\n",
        "\n",
        "Example: An email with a \"First Purchase Discount,\" or a social ad targeting people who viewed products but didn't buy. Encourage user-generated content (UGC) with a unique hashtag like #MyLoopThreads.\n",
        "\n",
        "3. Campaign Brief: \"Threads with a Story\" Launch\n",
        "Goal: Make Loop Threads synonymous with stylish, sustainable fashion.\n",
        "\n",
        "Core Message: Your clothes can look good and do good.\n",
        "\n",
        "Key Activities:\n",
        "\n",
        "\"Trash to Threads\" Video Series: Visually compelling social videos showing the journey of recycled materials to our clothing.\n",
        "\n",
        "Influencer Takeovers: Eco-conscious fashion influencers share their daily outfits featuring Loop Threads.\n",
        "\n",
        "Interactive Quiz: \"What's Your Eco-Fashion Footprint?\" leads to product recommendations.\n",
        "\n",
        "Launch Day Event: A virtual \"fashion show\" on TikTok Live showcasing the first collection.\n",
        "\n",
        "R - Results\n",
        "We'll keep a close eye on what's working and what's not.\n",
        "\n",
        "Key Metrics: Website visits, sales, email sign-ups, social media engagement (likes, shares, comments on our eco-content), and how many people are using our hashtag.\n",
        "\n",
        "Listen & Learn: We'll pay attention to customer feedback and what kind of content performs best, then adjust our plan on the fly. We'll celebrate our impact numbers (e.g., \"saved X pounds of textile waste!\") to reinforce our mission."
      ],
      "metadata": {
        "id": "GtLZ31NOZr8J"
      },
      "id": "GtLZ31NOZr8J"
    },
    {
      "cell_type": "markdown",
      "source": [
        "Product/Service: Recycled Material Clothing Brand\n",
        "\n",
        "Page Title: \"Loop Threads\"\n",
        "\n",
        "Tagline: \"Wear the Change. Elevate Your Style Sustainably.\"\n",
        "\n",
        "CTA: \"Shop the Collection & Start Your Loop\"\n",
        "\n",
        "Gemini Prompt: Brand voice for eco-conscious Gen Z\n",
        "\n",
        "URL: https://sites.google.com/d/1Ri3jpaLLCg1204uwgKD2a68xQiNVpaFf/p/14PlNZzBwwTCwx97G1vjNZwZ2yosW3q5i/edit"
      ],
      "metadata": {
        "id": "0g_hOQ5fbIzl"
      },
      "id": "0g_hOQ5fbIzl"
    }
  ],
  "metadata": {
    "colab": {
      "provenance": []
    },
    "language_info": {
      "name": "python"
    },
    "kernelspec": {
      "name": "python3",
      "display_name": "Python 3"
    }
  },
  "nbformat": 4,
  "nbformat_minor": 5
}